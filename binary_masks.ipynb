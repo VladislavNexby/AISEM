{
 "cells": [
  {
   "cell_type": "code",
   "execution_count": 105,
   "metadata": {},
   "outputs": [
    {
     "name": "stdout",
     "output_type": "stream",
     "text": [
      "Готово! Маска для 'NFP93_41 4 Edited.png' сохранена в папке '/Users/vlad/Desktop/Подходящие без полимера3' с удалением мелких объектов.\n"
     ]
    }
   ],
   "source": [
    "import cv2\n",
    "import numpy as np\n",
    "import os\n",
    "\n",
    "input_folder = '/Users/vlad/Desktop/10x'\n",
    "output_folder = '/Users/vlad/Desktop/Подходящие без полимера3'\n",
    "\n",
    "# Пороговые значения\n",
    "lower_thresh = 100\n",
    "upper_thresh = 255\n",
    "\n",
    "# Параметры морфологии\n",
    "kernel_size = 5  # размер ядра морфологии\n",
    "\n",
    "# Порог минимальной площади объекта\n",
    "min_area = 70 # <-- все объекты меньше этой площади будут удалены\n",
    "\n",
    "# Имя файла для обработки\n",
    "target_filename = 'NFP93_41 4 Edited.png'\n",
    "\n",
    "#для сохранения\n",
    "os.makedirs(output_folder, exist_ok=True)\n",
    "\n",
    "input_path = os.path.join(input_folder, target_filename)\n",
    "\n",
    "if not os.path.exists(input_path):\n",
    "    raise FileNotFoundError(f\"Файл '{target_filename}' не найден в папке '{input_folder}'.\")\n",
    "\n",
    "# Чтение изображения в градациях серого\n",
    "img = cv2.imread(input_path, cv2.IMREAD_GRAYSCALE)\n",
    "\n",
    "# Бинаризация по диапазону\n",
    "binary_mask = cv2.inRange(img, lower_thresh, upper_thresh)\n",
    "\n",
    "# Морфологический closing\n",
    "kernel = cv2.getStructuringElement(cv2.MORPH_ELLIPSE, (kernel_size, kernel_size))\n",
    "closed_mask = cv2.morphologyEx(binary_mask, cv2.MORPH_CLOSE, kernel)\n",
    "\n",
    "# Нахождение контуров\n",
    "contours, _ = cv2.findContours(closed_mask, cv2.RETR_EXTERNAL, cv2.CHAIN_APPROX_SIMPLE)\n",
    "\n",
    "# Создание чистой маски\n",
    "final_mask = np.zeros_like(closed_mask)\n",
    "\n",
    "# Оставляем только большие объекты\n",
    "for cnt in contours:\n",
    "    area = cv2.contourArea(cnt)\n",
    "    if area >= min_area:\n",
    "        cv2.drawContours(final_mask, [cnt], -1, 255, thickness=cv2.FILLED)\n",
    "\n",
    "output_path = os.path.join(output_folder, target_filename)\n",
    "cv2.imwrite(output_path, final_mask)\n",
    "\n",
    "print(f\"Готово! Маска для '{target_filename}' сохранена в папке '{output_folder}' с удалением мелких объектов.\")\n",
    "\n",
    "\n",
    "\n",
    "\n",
    "\n",
    "\n",
    "\n"
   ]
  }
 ],
 "metadata": {
  "kernelspec": {
   "display_name": "Python 3",
   "language": "python",
   "name": "python3"
  },
  "language_info": {
   "codemirror_mode": {
    "name": "ipython",
    "version": 3
   },
   "file_extension": ".py",
   "mimetype": "text/x-python",
   "name": "python",
   "nbconvert_exporter": "python",
   "pygments_lexer": "ipython3",
   "version": "3.12.3"
  },
  "orig_nbformat": 4
 },
 "nbformat": 4,
 "nbformat_minor": 2
}
